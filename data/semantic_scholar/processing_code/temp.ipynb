{
 "cells": [
  {
   "cell_type": "code",
   "execution_count": 50,
   "metadata": {},
   "outputs": [],
   "source": [
    "import os\n",
    "import json\n",
    "import re\n",
    "import threading\n",
    "from queue import Queue\n",
    "from concurrent.futures import ThreadPoolExecutor, as_completed\n",
    "from pathlib import Path\n",
    "from util.utils import load_file_line_by_line\n",
    "import logging\n",
    "from threading import Lock"
   ]
  },
  {
   "cell_type": "code",
   "execution_count": 24,
   "metadata": {},
   "outputs": [
    {
     "ename": "KeyboardInterrupt",
     "evalue": "",
     "output_type": "error",
     "traceback": [
      "\u001b[0;31m---------------------------------------------------------------------------\u001b[0m",
      "\u001b[0;31mKeyboardInterrupt\u001b[0m                         Traceback (most recent call last)",
      "Cell \u001b[0;32mIn[24], line 9\u001b[0m\n\u001b[1;32m      7\u001b[0m \u001b[38;5;28;01mwith\u001b[39;00m \u001b[38;5;28mopen\u001b[39m(file_path, \u001b[38;5;124m'\u001b[39m\u001b[38;5;124mr\u001b[39m\u001b[38;5;124m'\u001b[39m) \u001b[38;5;28;01mas\u001b[39;00m file:\n\u001b[1;32m      8\u001b[0m     data \u001b[38;5;241m=\u001b[39m json\u001b[38;5;241m.\u001b[39mload(file)\n\u001b[0;32m----> 9\u001b[0m temp_dict \u001b[38;5;241m=\u001b[39m {item[\u001b[38;5;124m'\u001b[39m\u001b[38;5;124mcorpusid\u001b[39m\u001b[38;5;124m'\u001b[39m]: item \u001b[38;5;28;01mfor\u001b[39;00m item \u001b[38;5;129;01min\u001b[39;00m data}\n\u001b[1;32m     10\u001b[0m all_abstracts\u001b[38;5;241m.\u001b[39mupdate(temp_dict)\n",
      "\u001b[0;31mKeyboardInterrupt\u001b[0m: "
     ]
    }
   ],
   "source": [
    "filterd_abstracts = '/usr/xtmp/hc387/ai_reviewer/data/semantic_scholar/2024_10_8/abstract_filtered_more'\n",
    "\n",
    "all_abstracts = {}\n",
    "\n",
    "for dir in os.listdir(filterd_abstracts):\n",
    "    file_path = os.path.join(filterd_abstracts, dir)\n",
    "    with open(file_path, 'r') as file:\n",
    "        data = json.load(file)\n",
    "    temp_dict = {item['corpusid']: item for item in data}\n",
    "    all_abstracts.update(temp_dict)"
   ]
  },
  {
   "cell_type": "code",
   "execution_count": 43,
   "metadata": {},
   "outputs": [
    {
     "name": "stdout",
     "output_type": "stream",
     "text": [
      "{'corpusid': 212987771, 'openaccessinfo': {'externalids': {'MAG': '3006824482', 'ACL': None, 'DOI': None, 'PubMedCentral': None, 'ArXiv': None}, 'license': None, 'url': None, 'status': None}, 'abstract': 'The research presented in this thesis focuses on microbial adaptation to organic chemicals and the resultant effects on ready biodegradation tests. Biodegradability is a key parameter for the environmental risk assessment of organic chemicals. Readily biodegradability is mostly determined using screening tests such as the ready biodegradability tests (RBTs) developed by the Organization for Economic Cooperation and Development (OECD). This thesis confirms that the origin and exposure history of the inocula used in RBTs can lead to highly variable outcomes. Chemostat systems were proposed as a solution to reduce the variability of the test results, by exposing microbial communities to a specific chemicals during a long period of time. First, we tested the impact of prior long-term exposure on the biodegradation capacity of an activated sludge inoculum for 4-chloroaniline, N-methylpiperazine and metformin. Second, we investigated the influence of nutrient limitation on the adaptation process and on the capacity of a microbial community to degrade metformin and its transformation product, guanylurea. Finally we compared the implication of long term and short term deliberate exposure on the biodegradation tests outcome and on the inoculum diversity and composition. To conclude, this thesis contributes to a more fundamental understanding of the biodegradation of chemicals in RBTs, and the influence of long-term exposure in chemostats on the biodegradation. This project will further contribute to the development of enhanced testing protocols, however, we do not recommend to use chemostat systems to standardize the inocula in their composition and function.'}\n"
     ]
    }
   ],
   "source": [
    "class combineFiles:\n",
    "    def __init__(self, categories: dict, main_dict: dict):\n",
    "        self.categories = categories\n",
    "        self.main_dict = main_dict\n",
    "        logging.basicConfig(level=logging.INFO)\n",
    "        self.logger = logging.getLogger(__name__)\n",
    "\n",
    "    def process_file(self, file_path, lock):\n",
    "        self.logger.info(f\"Processed file: {file_path}\")\n",
    "        for item in load_file_line_by_line(file_path):\n",
    "            corpusid = item['corpusid']\n",
    "            if corpusid in self.main_dict:\n",
    "                with lock:\n",
    "                    self.main_dict[corpusid].update(item)\n",
    "        self.logger.info(f\"Finished processing: {file_path}\")\n",
    "\n",
    "    def process_category(self, max_workers):\n",
    "        \"\"\"Process all JSON files within a category folder concurrently.\"\"\"\n",
    "        lock = Lock()\n",
    "        for category in self.categories:\n",
    "            json_files = list(Path(category).glob('*.json'))\n",
    "            with ThreadPoolExecutor(max_workers=max_workers) as executor:\n",
    "                executor.map(self.process_file, json_files)\n",
    "\n"
   ]
  },
  {
   "cell_type": "code",
   "execution_count": 49,
   "metadata": {},
   "outputs": [
    {
     "name": "stdout",
     "output_type": "stream",
     "text": [
      "1\n",
      "2\n"
     ]
    }
   ],
   "source": [
    "dict = {\n",
    "    \"abstracts\": 1,\n",
    "    \"paper\": 2\n",
    "}\n",
    "\n",
    "for item in dict:\n",
    "    print(dict[item])"
   ]
  },
  {
   "cell_type": "code",
   "execution_count": null,
   "metadata": {},
   "outputs": [],
   "source": []
  }
 ],
 "metadata": {
  "kernelspec": {
   "display_name": "review",
   "language": "python",
   "name": "python3"
  },
  "language_info": {
   "codemirror_mode": {
    "name": "ipython",
    "version": 3
   },
   "file_extension": ".py",
   "mimetype": "text/x-python",
   "name": "python",
   "nbconvert_exporter": "python",
   "pygments_lexer": "ipython3",
   "version": "3.12.7"
  }
 },
 "nbformat": 4,
 "nbformat_minor": 2
}
