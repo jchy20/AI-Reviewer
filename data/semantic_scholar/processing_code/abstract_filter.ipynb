{
 "cells": [
  {
   "cell_type": "code",
   "execution_count": 2,
   "metadata": {},
   "outputs": [],
   "source": [
    "import json\n",
    "from pathlib import Path\n",
    "import concurrent.futures\n",
    "import logging\n",
    "from typing import List\n",
    "import re\n",
    "import os\n"
   ]
  },
  {
   "cell_type": "code",
   "execution_count": 3,
   "metadata": {},
   "outputs": [],
   "source": [
    "def load_file_line_by_line(file_path):\n",
    "    '''\n",
    "    return an iterable file\n",
    "    '''\n",
    "    with open(file_path, 'r') as f:\n",
    "        for line in f:\n",
    "            yield json.loads(line)  # Converts each line from JSON string to a Python dictionary\n",
    "    \n",
    "class JSONFilter:\n",
    "    def __init__(self, keywords: List[str], input_directory: str, output_directory: str):\n",
    "        \"\"\"\n",
    "        Initialize the JSON filter.\n",
    "        \n",
    "        Args:\n",
    "            keywords: List of keywords to search for in abstract field\n",
    "            input_directory: Directory containing JSON files\n",
    "            output_directory: Directory to save filtered JSON files\n",
    "        \"\"\"\n",
    "        self.keywords = keywords\n",
    "        self.input_dir = Path(input_directory)\n",
    "        self.output_dir = Path(output_directory)\n",
    "        self.output_dir.mkdir(parents=True, exist_ok=True)\n",
    "        \n",
    "        logging.basicConfig(level=logging.INFO)\n",
    "        self.logger = logging.getLogger(__name__)\n",
    "\n",
    "    def contains_keywords(self, abstract: str) -> bool:\n",
    "        \"\"\"Check if any keyword exists in the abstract.\"\"\"\n",
    "        pattern = r'\\b(' + '|'.join(re.escape(keyword) for keyword in self.keywords) + r')\\b'\n",
    "        return bool(re.search(pattern, abstract, re.IGNORECASE))\n",
    "\n",
    "    def process_file(self, json_file: Path) -> None:\n",
    "        \"\"\"Process a single JSON file, keeping only entries with matching keywords in abstract.\"\"\"\n",
    "        try:\n",
    "            print(f'processing {json_file} now')\n",
    "            filtered_data = []\n",
    "            for data in load_file_line_by_line(json_file):\n",
    "                if 'abstract' in data and self.contains_keywords(data['abstract']):\n",
    "                    filtered_data.append(data)\n",
    "\n",
    "            output_file = self.output_dir / f\"filtered_{json_file.name}\"\n",
    "            with open(output_file, 'w', encoding='utf-8') as f:\n",
    "                json.dump(filtered_data, f, indent=2)\n",
    "            print(f'done processing {json_file}')\n",
    "            self.logger.info(f\"Processed and filtered: {json_file.name}\")\n",
    "            return\n",
    "            \n",
    "        except Exception as e:\n",
    "            self.logger.error(f\"Error processing {json_file.name}: {str(e)}\")\n",
    "\n",
    "    def process_all_files(self, max_workers: int = None) -> None:\n",
    "        \"\"\"\n",
    "        Process all JSON files in parallel using thread pool.\n",
    "        \n",
    "        Args:\n",
    "            max_workers: Maximum number of threads to use\n",
    "        \"\"\"\n",
    "        json_files = list(self.input_dir.glob('*.json'))\n",
    "        \n",
    "        if not json_files:\n",
    "            self.logger.warning(f\"No JSON files found in {self.input_dir}\")\n",
    "            return\n",
    "            \n",
    "        with concurrent.futures.ThreadPoolExecutor(max_workers=max_workers) as executor:\n",
    "            executor.map(self.process_file, json_files)"
   ]
  },
  {
   "cell_type": "code",
   "execution_count": 4,
   "metadata": {},
   "outputs": [
    {
     "name": "stdout",
     "output_type": "stream",
     "text": [
      "True\n"
     ]
    }
   ],
   "source": [
    "\n",
    "keywords = ['nlp', 'large language model', 'language model', 'llm', 'large language models', 'language models', 'llms']\n",
    "input_dir = \"2024_10_8/abstracts\"\n",
    "output_dir = \"2024_10_8/filtered_jsons\"\n",
    "abstract = 'LLM '\n",
    "# Initialize and run the filter\n",
    "json_filter = JSONFilter(keywords, input_dir, output_dir)\n",
    "print(json_filter.contains_keywords(abstract))\n"
   ]
  },
  {
   "cell_type": "code",
   "execution_count": null,
   "metadata": {},
   "outputs": [],
   "source": []
  }
 ],
 "metadata": {
  "kernelspec": {
   "display_name": "review",
   "language": "python",
   "name": "python3"
  },
  "language_info": {
   "codemirror_mode": {
    "name": "ipython",
    "version": 3
   },
   "file_extension": ".py",
   "mimetype": "text/x-python",
   "name": "python",
   "nbconvert_exporter": "python",
   "pygments_lexer": "ipython3",
   "version": "3.12.7"
  }
 },
 "nbformat": 4,
 "nbformat_minor": 2
}
