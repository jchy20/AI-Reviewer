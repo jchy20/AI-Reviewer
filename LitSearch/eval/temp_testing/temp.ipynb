{
 "cells": [
  {
   "cell_type": "code",
   "execution_count": 3,
   "metadata": {},
   "outputs": [
    {
     "name": "stderr",
     "output_type": "stream",
     "text": [
      "Fetching 4 files: 100%|██████████| 4/4 [00:00<00:00, 22280.50it/s]\n"
     ]
    },
    {
     "name": "stdout",
     "output_type": "stream",
     "text": [
      "['BERT[SEP]We introduce a new language representation model called BERT', 'Attention is all you need[SEP]The dominant sequence transduction models are based on complex recurrent or convolutional neural networks']\n",
      "['BERT[SEP]We introduce a new language representation model called BERT', 'Attention is all you need[SEP]The dominant sequence transduction models are based on complex recurrent or convolutional neural networks']\n",
      "['BERT[SEP]We introduce a new language representation model called BERT', 'Attention is all you need[SEP]The dominant sequence transduction models are based on complex recurrent or convolutional neural networks']\n",
      "['BERT[SEP]We introduce a new language representation model called BERT', 'Attention is all you need[SEP]The dominant sequence transduction models are based on complex recurrent or convolutional neural networks']\n",
      "768\n"
     ]
    }
   ],
   "source": [
    "from transformers import AutoTokenizer\n",
    "from adapters import AutoAdapterModel\n",
    "import sys\n",
    "import os\n",
    "sys.path.append(os.path.abspath(\"../../\"))\n",
    "from utils import utils\n",
    "\n",
    "tokenizer = AutoTokenizer.from_pretrained('allenai/specter2_base')\n",
    "model = AutoAdapterModel.from_pretrained('allenai/specter2_base')\n",
    "model.load_adapter(\"allenai/specter2\", source=\"hf\", load_as=\"specter2\", set_active=True)\n",
    "\n",
    "papers = [{'title': 'BERT', 'abstract': 'We introduce a new language representation model called BERT'},\n",
    "          {'title': 'Attention is all you need', 'abstract': 'The dominant sequence transduction models are based on complex recurrent or convolutional neural networks'},\n",
    "          {'title': 'BERT', 'abstract': 'We introduce a new language representation model called BERT'},\n",
    "          {'title': 'Attention is all you need', 'abstract': 'The dominant sequence transduction models are based on complex recurrent or convolutional neural networks'},\n",
    "          {'title': 'BERT', 'abstract': 'We introduce a new language representation model called BERT'},\n",
    "          {'title': 'Attention is all you need', 'abstract': 'The dominant sequence transduction models are based on complex recurrent or convolutional neural networks'},\n",
    "          {'title': 'BERT', 'abstract': 'We introduce a new language representation model called BERT'},\n",
    "          {'title': 'Attention is all you need', 'abstract': 'The dominant sequence transduction models are based on complex recurrent or convolutional neural networks'},]\n",
    "\n",
    "\n",
    "\n",
    "# concatenate title and abstract\n",
    "text_batch = [d['title'] + tokenizer.sep_token + (d.get('abstract') or '') for d in papers]\n",
    "for data in utils.batch_iterator(text_batch, 2):\n",
    "    print(data)\n",
    "\n",
    "\n",
    "# preprocess the input\n",
    "inputs = tokenizer(text_batch, padding=True, truncation=True,\n",
    "                                   return_tensors=\"pt\", return_token_type_ids=False, max_length=512)\n",
    "output = model(**inputs)\n",
    "# take the first token in the batch as the embedding\n",
    "embeddings = output.last_hidden_state[:, 0, :]\n",
    "\n",
    "print(len(embeddings[0]))"
   ]
  },
  {
   "cell_type": "code",
   "execution_count": null,
   "metadata": {},
   "outputs": [
    {
     "name": "stderr",
     "output_type": "stream",
     "text": [
      "/home/users/hc387/miniconda3/envs/litsearch/lib/python3.8/site-packages/tqdm/auto.py:21: TqdmWarning: IProgress not found. Please update jupyter and ipywidgets. See https://ipywidgets.readthedocs.io/en/stable/user_install.html\n",
      "  from .autonotebook import tqdm as notebook_tqdm\n",
      "BertAdapterModel has generative capabilities, as `prepare_inputs_for_generation` is explicitly overwritten. However, it doesn't directly inherit from `GenerationMixin`. From 👉v4.50👈 onwards, `PreTrainedModel` will NOT inherit from `GenerationMixin`, and this model will lose the ability to call `generate` and other related functions.\n",
      "  - If you're using `trust_remote_code=True`, you can get rid of this warning by loading the model with an auto class. See https://huggingface.co/docs/transformers/en/model_doc/auto#auto-classes\n",
      "  - If you are the owner of the model architecture code, please modify your model class such that it inherits from `GenerationMixin` (after `PreTrainedModel`, otherwise you'll get an exception).\n",
      "  - If you are not the owner of the model architecture class, please contact the model code owner to update it.\n",
      "Fetching 4 files: 100%|██████████| 4/4 [00:00<00:00, 39016.78it/s]\n"
     ]
    },
    {
     "name": "stdout",
     "output_type": "stream",
     "text": [
      "{'1[SEP]1': 123, '2[SEP]2': 238, '3[SEP]3': 124, '4[SEP]4': 12095483}\n"
     ]
    }
   ],
   "source": [
    "from transformers import AutoTokenizer\n",
    "from adapters import AutoAdapterModel\n",
    "import sys\n",
    "import os\n",
    "sys.path.append(os.path.abspath(\"../../\"))\n",
    "from utils import utils\n",
    "from eval.retrieval.kv_store import KVStore\n",
    "from eval.retrieval.kv_store import TextType\n",
    "from typing import List, Any\n",
    "from tqdm import tqdm\n",
    "\n",
    "tokenizer = AutoTokenizer.from_pretrained('allenai/specter2_base')\n",
    "model = AutoAdapterModel.from_pretrained('allenai/specter2_base')\n",
    "model.load_adapter(\"allenai/specter2\", source=\"hf\", load_as=\"specter2\", set_active=True)\n",
    "\n",
    "def encode_batch(texts: List[str], type: TextType, show_progress_bar: bool = True, batch_size: int = 256) -> List[Any]:\n",
    "        encoded_keys = []\n",
    "        total_batches = utils.batch_size_calc(texts, batch_size)\n",
    "\n",
    "        iterator = utils.batch_iterator(texts, batch_size)\n",
    "        if show_progress_bar:\n",
    "            iterator = tqdm(iterator, total=total_batches, desc=\"Encoding Batches\")\n",
    "\n",
    "        for text_batch in iterator:\n",
    "            inputs = tokenizer(text_batch, \n",
    "                                        padding=True, \n",
    "                                        truncation=True,\n",
    "                                        return_tensors=\"pt\", \n",
    "                                        return_token_type_ids=False,\n",
    "                                        max_length=512)\n",
    "            output = model(**inputs)\n",
    "            embeddings = output.last_hidden_state[:, 0, :].detach().clone().requires_grad_(False)\n",
    "            encoded_keys.extend(embeddings)\n",
    "        return encoded_keys\n",
    "\n",
    "\n",
    "\n",
    "temp_text = [\n",
    "    {\"corpusid\": 123, \"title\": \"1\", \"abstract\": \"1\"},\n",
    "    {\"corpusid\": 238, \"title\": \"2\", \"abstract\": \"2\"},\n",
    "    {\"corpusid\": 124, \"title\": \"3\", \"abstract\": \"3\"},\n",
    "    {\"corpusid\": 12095483, \"title\": \"4\", \"abstract\": \"4\"}\n",
    "]\n",
    "\n",
    "kv_pairs = {utils.get_title_abstract_SEPtoken(record): utils.get_clean_corpusid(record) for record in temp_text}\n",
    "print(kv_pairs)\n",
    "\n",
    "\n",
    "\n",
    "# temp = encode_batch(temp_text, TextType.KEY)\n",
    "# print(len(temp))\n",
    "# for i in range(len(temp)):\n",
    "#      print(len(temp[i]))"
   ]
  },
  {
   "cell_type": "code",
   "execution_count": 5,
   "metadata": {},
   "outputs": [
    {
     "name": "stdout",
     "output_type": "stream",
     "text": [
      "[SEP]\n",
      "<class 'str'>\n",
      "S\n"
     ]
    }
   ],
   "source": [
    "sep_token = tokenizer.sep_token\n",
    "print(sep_token)\n",
    "print(type(sep_token))\n",
    "print(sep_token[1])"
   ]
  },
  {
   "cell_type": "code",
   "execution_count": 3,
   "metadata": {},
   "outputs": [
    {
     "name": "stdout",
     "output_type": "stream",
     "text": [
      "['1[SEP]1', '2[SEP]2']\n",
      "['3[SEP]3', '4[SEP]4']\n",
      "['5[SEP]5', '6[SEP]6']\n"
     ]
    }
   ],
   "source": [
    "temp_text = [\n",
    "    '1[SEP]1',\n",
    "    '2[SEP]2',\n",
    "    '3[SEP]3',\n",
    "    '4[SEP]4',\n",
    "    '5[SEP]5',\n",
    "    '6[SEP]6'\n",
    "]\n",
    "\n",
    "iterator = utils.batch_iterator(temp_text, 2)\n",
    "for i in iterator:\n",
    "    print(i)"
   ]
  },
  {
   "cell_type": "code",
   "execution_count": 1,
   "metadata": {},
   "outputs": [
    {
     "name": "stderr",
     "output_type": "stream",
     "text": [
      "/home/users/hc387/miniconda3/envs/litsearch/lib/python3.8/site-packages/tqdm/auto.py:21: TqdmWarning: IProgress not found. Please update jupyter and ipywidgets. See https://ipywidgets.readthedocs.io/en/stable/user_install.html\n",
      "  from .autonotebook import tqdm as notebook_tqdm\n"
     ]
    }
   ],
   "source": [
    "import sys\n",
    "import os\n",
    "sys.path.append(os.path.abspath(\"../../\"))\n",
    "from utils import utils\n",
    "import json\n",
    "import torch\n",
    "import logging\n",
    "from concurrent.futures import ThreadPoolExecutor, as_completed\n",
    "from pathlib import Path\n",
    "from tqdm import tqdm\n",
    "\n",
    "import ast\n",
    "from threading import Lock\n",
    "import pickle\n",
    "from transformers import AutoTokenizer\n",
    "from adapters import AutoAdapterModel\n",
    "\n",
    "class ManualClean():\n",
    "    def __init__(self, input_folder: str, output_dir: str, model_path: str = \"allenai/specter2_base\"):\n",
    "        # input output dir\n",
    "        self._input_folder = Path(input_folder)\n",
    "        self._output_dir = output_dir\n",
    "\n",
    "        #specter v2 model config and load\n",
    "        self.model_path = model_path\n",
    "        self._tokenizer = AutoTokenizer.from_pretrained(self.model_path)\n",
    "        self._model = AutoAdapterModel.from_pretrained(self.model_path)\n",
    "        self._model.load_adapter(\"allenai/specter2\", source=\"hf\", load_as=\"specter2\", set_active=True)\n",
    "        \n",
    "        #index \n",
    "        self.index_name = 'specter2'\n",
    "        self.index_type = 'specter2'\n",
    "        self.key_instruction = \"Represent the title and abstract of the research paper for retrieval:\"\n",
    "        self.query_instruction = \"Represent the research question for retrieving relevant research paper abstracts:\"\n",
    "        self.keys = []\n",
    "        self.values = []\n",
    "        self.encoded_keys = []\n",
    "\n",
    "        #others\n",
    "        logging.basicConfig(level=logging.INFO)\n",
    "        self._logger = logging.getLogger(__name__)\n",
    "\n",
    "    def process_each_file(self, file_path: Path, lock) -> None:\n",
    "        #key is title and abstract\n",
    "        #value is corpusid\n",
    "        #embedding is torch.tensor\n",
    "        with open(file_path, 'r') as f:\n",
    "            data = json.load(f)\n",
    "        \n",
    "        for item in data:\n",
    "            value = utils.get_clean_corpusid(data[item])\n",
    "\n",
    "            #title and abstract\n",
    "            abstract = utils.get_clean_abstract(data[item])\n",
    "            try:\n",
    "                title = utils.get_clean_title(data[item])\n",
    "            except KeyError as e:\n",
    "                title = ''\n",
    "            key = f\"Title: {title}\\nAbstract: {abstract}\"\n",
    "\n",
    "            #embeddings\n",
    "            try:\n",
    "                embedding = ast.literal_eval(data[item]['embedding_v2_vector'])\n",
    "                embedding = torch.tensor(embedding).requires_grad_(False)\n",
    "                if len(embedding) != 768:\n",
    "                    raise KeyError(f\"embedding length is not 768\")\n",
    "            except KeyError as e:\n",
    "                self._logger.error(f'No specter2 embedding for corpusid: {utils.get_clean_corpusid(data[item])}')\n",
    "\n",
    "                papers = [{'title': title, 'abstract': abstract}]\n",
    "                with lock:\n",
    "                    text_batch = [d['title'] + self._tokenizer.sep_token + (d.get('abstract') or '') for d in papers]\n",
    "                    \n",
    "                    # preprocess the input\n",
    "                    inputs = self._tokenizer(text_batch, padding=True, truncation=True,\n",
    "                                                    return_tensors=\"pt\", return_token_type_ids=False, max_length=512)\n",
    "                    output = self._model(**inputs)\n",
    "\n",
    "                # take the first token in the batch as the embedding\n",
    "                embeddings = output.last_hidden_state[:, 0, :]\n",
    "                embedding =  embeddings[0].detach().clone().requires_grad_(False)\n",
    "            \n",
    "            with lock:\n",
    "                self.keys.append(key)\n",
    "                self.values.append(value)\n",
    "                self.encoded_keys.append(embedding)\n",
    "    \n",
    "    def process_all_files(self) -> None:\n",
    "\n",
    "        lock = Lock()\n",
    "        \n",
    "        json_files = list(self._input_folder.glob('*.json'))\n",
    "        with ThreadPoolExecutor(max_workers=10) as executor:\n",
    "            futures = {\n",
    "                    executor.submit(self.process_each_file, file_path, lock): file_path\n",
    "                    for file_path in json_files\n",
    "                }\n",
    "\n",
    "            for future in tqdm(as_completed(futures), total=len(json_files), desc='Processing all files'):\n",
    "                file_path = futures[future]\n",
    "                try:\n",
    "                    future.result()\n",
    "                except Exception as exc:\n",
    "                    self._logger.error(f'{file_path} generated an exception: {exc}')\n",
    "\n",
    "    def return_vals(self, save_as_tensor: bool = False) -> None:\n",
    "        if save_as_tensor:\n",
    "            self.encoded_keys = torch.stack(self.encoded_keys)\n",
    "        print(self.keys)\n",
    "        print(self.values)\n",
    "        print(self.encoded_keys)\n",
    "    \n",
    "    def save(self, save_as_tensor: bool = False) -> None:\n",
    "        savetype = 'list'\n",
    "        if save_as_tensor:\n",
    "            self.encoded_keys = torch.stack(self.encoded_keys)\n",
    "            savetype = 'tensor'\n",
    "        save_dict = {}\n",
    "        for key, value in self.__dict__.items():\n",
    "            if key[0] != \"_\":\n",
    "                save_dict[key] = value\n",
    "\n",
    "        print(f\"Saving index to {os.path.join(self._output_dir, f'{savetype}_{self.index_name}.{self.index_type}')}\")\n",
    "        os.makedirs(self._output_dir, exist_ok=True)\n",
    "        with open(os.path.join(self._output_dir, f\"{savetype}_{self.index_name}.{self.index_type}\"), 'wb') as file:\n",
    "            pickle.dump(save_dict, file, protocol=pickle.HIGHEST_PROTOCOL)\n"
   ]
  },
  {
   "cell_type": "code",
   "execution_count": 2,
   "metadata": {},
   "outputs": [
    {
     "name": "stderr",
     "output_type": "stream",
     "text": [
      "BertAdapterModel has generative capabilities, as `prepare_inputs_for_generation` is explicitly overwritten. However, it doesn't directly inherit from `GenerationMixin`. From 👉v4.50👈 onwards, `PreTrainedModel` will NOT inherit from `GenerationMixin`, and this model will lose the ability to call `generate` and other related functions.\n",
      "  - If you're using `trust_remote_code=True`, you can get rid of this warning by loading the model with an auto class. See https://huggingface.co/docs/transformers/en/model_doc/auto#auto-classes\n",
      "  - If you are the owner of the model architecture code, please modify your model class such that it inherits from `GenerationMixin` (after `PreTrainedModel`, otherwise you'll get an exception).\n",
      "  - If you are not the owner of the model architecture class, please contact the model code owner to update it.\n",
      "Fetching 4 files: 100%|██████████| 4/4 [00:00<00:00, 25191.02it/s]\n",
      "ERROR:__main__:No specter2 embedding for corpusid: 1\n",
      "ERROR:__main__:No specter2 embedding for corpusid: 5\n",
      "Processing all files:   0%|          | 0/2 [00:00<?, ?it/s]ERROR:__main__:No specter2 embedding for corpusid: 2\n",
      "ERROR:__main__:No specter2 embedding for corpusid: 6\n",
      "ERROR:__main__:No specter2 embedding for corpusid: 3\n",
      "ERROR:__main__:No specter2 embedding for corpusid: 7\n",
      "ERROR:__main__:No specter2 embedding for corpusid: 4\n",
      "ERROR:__main__:No specter2 embedding for corpusid: 8\n",
      "Processing all files: 100%|██████████| 2/2 [00:01<00:00,  1.33it/s]\n"
     ]
    },
    {
     "name": "stdout",
     "output_type": "stream",
     "text": [
      "Saving index to /usr/xtmp/hc387/ai_reviewer/LitSearch/eval/temp_testing/temp_folder/tensor_specter2.specter2\n"
     ]
    }
   ],
   "source": [
    "input_dir = '/usr/xtmp/hc387/ai_reviewer/LitSearch/eval/temp_testing/temp_folder'\n",
    "output_dir = '/usr/xtmp/hc387/ai_reviewer/LitSearch/eval/temp_testing/temp_folder'\n",
    "temp = ManualClean(input_dir, output_dir)\n",
    "temp.process_all_files()\n",
    "temp.save(save_as_tensor=True)"
   ]
  },
  {
   "cell_type": "code",
   "execution_count": 5,
   "metadata": {},
   "outputs": [
    {
     "ename": "FileNotFoundError",
     "evalue": "[Errno 2] No such file or directory: '/usr/xtmp/hc387/ai_reviewer/LitSearch/eval/temp_testing/temp_folder/tensor_specter2.specter2'",
     "output_type": "error",
     "traceback": [
      "\u001b[0;31m---------------------------------------------------------------------------\u001b[0m",
      "\u001b[0;31mFileNotFoundError\u001b[0m                         Traceback (most recent call last)",
      "Cell \u001b[0;32mIn[5], line 7\u001b[0m\n\u001b[1;32m      4\u001b[0m file_path \u001b[38;5;241m=\u001b[39m \u001b[38;5;124m'\u001b[39m\u001b[38;5;124m/usr/xtmp/hc387/ai_reviewer/LitSearch/eval/temp_testing/temp_folder/tensor_specter2.specter2\u001b[39m\u001b[38;5;124m'\u001b[39m\n\u001b[1;32m      6\u001b[0m \u001b[38;5;66;03m# Load the pickle file\u001b[39;00m\n\u001b[0;32m----> 7\u001b[0m \u001b[38;5;28;01mwith\u001b[39;00m \u001b[38;5;28;43mopen\u001b[39;49m\u001b[43m(\u001b[49m\u001b[43mfile_path\u001b[49m\u001b[43m,\u001b[49m\u001b[43m \u001b[49m\u001b[38;5;124;43m'\u001b[39;49m\u001b[38;5;124;43mrb\u001b[39;49m\u001b[38;5;124;43m'\u001b[39;49m\u001b[43m)\u001b[49m \u001b[38;5;28;01mas\u001b[39;00m file:\n\u001b[1;32m      8\u001b[0m     data \u001b[38;5;241m=\u001b[39m pickle\u001b[38;5;241m.\u001b[39mload(file)\n\u001b[1;32m     10\u001b[0m \u001b[38;5;66;03m# Use the loaded data\u001b[39;00m\n",
      "File \u001b[0;32m~/miniconda3/envs/litsearch/lib/python3.8/site-packages/IPython/core/interactiveshell.py:284\u001b[0m, in \u001b[0;36m_modified_open\u001b[0;34m(file, *args, **kwargs)\u001b[0m\n\u001b[1;32m    277\u001b[0m \u001b[38;5;28;01mif\u001b[39;00m file \u001b[38;5;129;01min\u001b[39;00m {\u001b[38;5;241m0\u001b[39m, \u001b[38;5;241m1\u001b[39m, \u001b[38;5;241m2\u001b[39m}:\n\u001b[1;32m    278\u001b[0m     \u001b[38;5;28;01mraise\u001b[39;00m \u001b[38;5;167;01mValueError\u001b[39;00m(\n\u001b[1;32m    279\u001b[0m         \u001b[38;5;124mf\u001b[39m\u001b[38;5;124m\"\u001b[39m\u001b[38;5;124mIPython won\u001b[39m\u001b[38;5;124m'\u001b[39m\u001b[38;5;124mt let you open fd=\u001b[39m\u001b[38;5;132;01m{\u001b[39;00mfile\u001b[38;5;132;01m}\u001b[39;00m\u001b[38;5;124m by default \u001b[39m\u001b[38;5;124m\"\u001b[39m\n\u001b[1;32m    280\u001b[0m         \u001b[38;5;124m\"\u001b[39m\u001b[38;5;124mas it is likely to crash IPython. If you know what you are doing, \u001b[39m\u001b[38;5;124m\"\u001b[39m\n\u001b[1;32m    281\u001b[0m         \u001b[38;5;124m\"\u001b[39m\u001b[38;5;124myou can use builtins\u001b[39m\u001b[38;5;124m'\u001b[39m\u001b[38;5;124m open.\u001b[39m\u001b[38;5;124m\"\u001b[39m\n\u001b[1;32m    282\u001b[0m     )\n\u001b[0;32m--> 284\u001b[0m \u001b[38;5;28;01mreturn\u001b[39;00m \u001b[43mio_open\u001b[49m\u001b[43m(\u001b[49m\u001b[43mfile\u001b[49m\u001b[43m,\u001b[49m\u001b[43m \u001b[49m\u001b[38;5;241;43m*\u001b[39;49m\u001b[43margs\u001b[49m\u001b[43m,\u001b[49m\u001b[43m \u001b[49m\u001b[38;5;241;43m*\u001b[39;49m\u001b[38;5;241;43m*\u001b[39;49m\u001b[43mkwargs\u001b[49m\u001b[43m)\u001b[49m\n",
      "\u001b[0;31mFileNotFoundError\u001b[0m: [Errno 2] No such file or directory: '/usr/xtmp/hc387/ai_reviewer/LitSearch/eval/temp_testing/temp_folder/tensor_specter2.specter2'"
     ]
    }
   ],
   "source": [
    "import pickle\n",
    "\n",
    "# Path to your pickle file\n",
    "file_path = '/usr/xtmp/hc387/ai_reviewer/LitSearch/eval/temp_testing/temp_folder/tensor_specter2.specter2'\n",
    "\n",
    "# Load the pickle file\n",
    "with open(file_path, 'rb') as file:\n",
    "    data = pickle.load(file)\n",
    "\n",
    "# Use the loaded data\n",
    "print(data['keys'])\n",
    "print(data['values'])\n",
    "print(data['encoded_keys'])\n",
    "\n"
   ]
  },
  {
   "cell_type": "code",
   "execution_count": 3,
   "metadata": {},
   "outputs": [
    {
     "name": "stdout",
     "output_type": "stream",
     "text": [
      "768\n",
      "768\n",
      "768\n",
      "768\n",
      "768\n",
      "768\n",
      "768\n",
      "768\n",
      "768\n"
     ]
    }
   ],
   "source": [
    "import json\n",
    "import ast\n",
    "import torch\n",
    "path_file = '/usr/xtmp/hc387/ai_reviewer/data/semantic_scholar/2024_10_8/everything_combined_more/file_621.json'\n",
    "\n",
    "with open(path_file, 'r') as f:\n",
    "    data = json.load(f)\n",
    "\n",
    "for item in data:\n",
    "    embedding = ast.literal_eval(data[item]['embedding_v2_vector'])\n",
    "    embedding = torch.tensor(embedding).requires_grad_(False)\n",
    "\n",
    "    print(len(embedding))"
   ]
  },
  {
   "cell_type": "code",
   "execution_count": 6,
   "metadata": {},
   "outputs": [
    {
     "name": "stdout",
     "output_type": "stream",
     "text": [
      "tensor([[ 0.5656, -0.6054],\n",
      "        [-0.3655,  0.3068],\n",
      "        [ 0.7903, -0.1476],\n",
      "        [-0.2881, -0.4693],\n",
      "        [-1.4547,  0.5003],\n",
      "        [ 0.1156,  0.1400],\n",
      "        [-0.2620,  0.7061],\n",
      "        [ 2.6374, -0.1449],\n",
      "        [-0.3929,  1.8097],\n",
      "        [ 1.0943,  0.7799]])\n",
      "tensor([ 0.5656, -0.3655,  0.7903, -0.2881, -1.4547,  0.1156, -0.2620,  2.6374,\n",
      "        -0.3929,  1.0943])\n",
      "torch.return_types.topk(\n",
      "values=tensor([2.6374, 1.0943]),\n",
      "indices=tensor([7, 9]))\n"
     ]
    }
   ],
   "source": [
    "import torch\n",
    "\n",
    "query = torch.tensor([1, 0]).float()\n",
    "\n",
    "encoded_keys = torch.randn(10, 2)\n",
    "print(encoded_keys)\n",
    "\n",
    "x = torch.matmul(encoded_keys, query)\n",
    "\n",
    "print(x)\n",
    "print(torch.topk(x, 2))"
   ]
  },
  {
   "cell_type": "code",
   "execution_count": null,
   "metadata": {},
   "outputs": [],
   "source": []
  }
 ],
 "metadata": {
  "kernelspec": {
   "display_name": "litsearch",
   "language": "python",
   "name": "python3"
  },
  "language_info": {
   "codemirror_mode": {
    "name": "ipython",
    "version": 3
   },
   "file_extension": ".py",
   "mimetype": "text/x-python",
   "name": "python",
   "nbconvert_exporter": "python",
   "pygments_lexer": "ipython3",
   "version": "3.8.20"
  }
 },
 "nbformat": 4,
 "nbformat_minor": 2
}
