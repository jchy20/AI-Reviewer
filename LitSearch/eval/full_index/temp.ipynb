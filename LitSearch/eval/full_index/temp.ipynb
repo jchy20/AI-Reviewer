{
 "cells": [
  {
   "cell_type": "code",
   "execution_count": 1,
   "metadata": {},
   "outputs": [
    {
     "name": "stderr",
     "output_type": "stream",
     "text": [
      "/home/users/hc387/miniconda3/envs/litsearch/lib/python3.8/site-packages/tqdm/auto.py:21: TqdmWarning: IProgress not found. Please update jupyter and ipywidgets. See https://ipywidgets.readthedocs.io/en/stable/user_install.html\n",
      "  from .autonotebook import tqdm as notebook_tqdm\n"
     ]
    }
   ],
   "source": [
    "from embed_filter import EmbeddingFilter\n",
    "from combineFiles import combineFiles\n",
    "\n",
    "import torch"
   ]
  },
  {
   "cell_type": "code",
   "execution_count": 2,
   "metadata": {},
   "outputs": [
    {
     "name": "stderr",
     "output_type": "stream",
     "text": [
      "Processing all files: 100%|██████████| 2/2 [00:00<00:00, 1078.64it/s]\n"
     ]
    }
   ],
   "source": [
    "seeds = torch.tensor([[1, 2, 3], [1, 2, 4]])\n",
    "input_folder = 'temp_folder'\n",
    "embed_filter = EmbeddingFilter(seeds, input_folder, 2)\n",
    "\n",
    "embed_filter.process_all_files()\n",
    "ret = embed_filter.return_dict()"
   ]
  },
  {
   "cell_type": "code",
   "execution_count": 3,
   "metadata": {},
   "outputs": [
    {
     "name": "stderr",
     "output_type": "stream",
     "text": [
      "INFO:combineFiles:Total files to process: 4\n",
      "INFO:combineFiles:Processing file: temp_abstracts/file1.json\n",
      "INFO:combineFiles:Finished processing: file1.json. Found 1 matching records\n",
      "Processing all files:   0%|          | 0/4 [00:00<?, ?it/s]INFO:combineFiles:Processing file: temp_abstracts/file2.json\n",
      "INFO:combineFiles:Finished processing: file2.json. Found 1 matching records\n",
      "INFO:combineFiles:Processing file: temp_papers/file1.json\n",
      "INFO:combineFiles:Finished processing: file1.json. Found 1 matching records\n",
      "INFO:combineFiles:Processing file: temp_papers/file2.json\n",
      "INFO:combineFiles:Finished processing: file2.json. Found 1 matching records\n",
      "Processing all files: 100%|██████████| 4/4 [00:00<00:00, 792.16it/s]\n"
     ]
    }
   ],
   "source": [
    "category_names = {\"abstracts\": 'temp_abstracts', \"papers\": 'temp_papers'}\n",
    "\n",
    "combiner = combineFiles(categories = category_names, main_dict = ret, chunk_size = 2, output_dir = 'temp_out', max_workers=1)\n",
    "combiner.process_category()\n",
    "combiner.write_all_chunks()"
   ]
  },
  {
   "cell_type": "code",
   "execution_count": 4,
   "metadata": {},
   "outputs": [
    {
     "data": {
      "text/plain": [
       "{5: {'corpusid': 5,\n",
       "  'embeddings': [1.0, 2.0, 3.0],\n",
       "  'avg_similarity': 0.9957299828529358,\n",
       "  'abstract': 'abs5',\n",
       "  'title': 'title5',\n",
       "  'year': 2012},\n",
       " 1: {'corpusid': 1,\n",
       "  'embeddings': [1.0, 2.0, 3.0],\n",
       "  'avg_similarity': 0.9957299828529358,\n",
       "  'abstract': 'abs1',\n",
       "  'title': 'title1',\n",
       "  'year': 2012}}"
      ]
     },
     "execution_count": 4,
     "metadata": {},
     "output_type": "execute_result"
    }
   ],
   "source": [
    "ret"
   ]
  },
  {
   "cell_type": "code",
   "execution_count": null,
   "metadata": {},
   "outputs": [],
   "source": []
  }
 ],
 "metadata": {
  "kernelspec": {
   "display_name": "litsearch",
   "language": "python",
   "name": "python3"
  },
  "language_info": {
   "codemirror_mode": {
    "name": "ipython",
    "version": 3
   },
   "file_extension": ".py",
   "mimetype": "text/x-python",
   "name": "python",
   "nbconvert_exporter": "python",
   "pygments_lexer": "ipython3",
   "version": "3.8.20"
  }
 },
 "nbformat": 4,
 "nbformat_minor": 2
}
